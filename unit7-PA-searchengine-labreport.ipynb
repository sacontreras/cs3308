{
 "cells": [
  {
   "cell_type": "markdown",
   "metadata": {},
   "source": [
    "# Part 2: Search Engine (using the WebCrawler inverted index sqlite database)"
   ]
  },
  {
   "cell_type": "code",
   "execution_count": 1,
   "metadata": {},
   "outputs": [],
   "source": [
    "from unit5.search_engine import SearchEngine\n",
    "from common import disp\n",
    "\n",
    "%load_ext autoreload\n",
    "%autoreload 2"
   ]
  },
  {
   "cell_type": "code",
   "execution_count": 2,
   "metadata": {},
   "outputs": [
    {
     "name": "stdin",
     "output_type": "stream",
     "text": [
      "Enter the search terms, each separated by a space (or just press ENTER to QUIT):  election candidates biden trump\n"
     ]
    },
    {
     "name": "stdout",
     "output_type": "stream",
     "text": [
      "\n",
      "raw search terms:\n",
      "\t'election candidates biden trump'\n",
      "\n",
      "tokenized/processed search terms:\n",
      "\t['elect', 'candid', 'biden', 'trump']\n"
     ]
    },
    {
     "data": {
      "text/markdown": [],
      "text/plain": [
       "<IPython.core.display.Markdown object>"
      ]
     },
     "metadata": {},
     "output_type": "display_data"
    },
    {
     "data": {
      "text/markdown": [
       "|   TermId | Term   |   N |   df_t |   idf_t |\n",
       "|---------:|:-------|----:|-------:|--------:|\n",
       "|       38 | elect  | 440 |     89 | 1.59814 |\n",
       "|       40 | trump  | 440 |     85 | 1.64412 |\n",
       "|     5614 | biden  | 440 |     21 | 3.04225 |\n",
       "|     5625 | candid | 440 |     16 | 3.31419 |"
      ],
      "text/plain": [
       "<IPython.core.display.Markdown object>"
      ]
     },
     "metadata": {},
     "output_type": "display_data"
    },
    {
     "data": {
      "text/markdown": [],
      "text/plain": [
       "<IPython.core.display.Markdown object>"
      ]
     },
     "metadata": {},
     "output_type": "display_data"
    },
    {
     "data": {
      "text/markdown": [
       "### SEARCH RESULTS: The following documents contain all of the above search terms (results ordered by cosine similarity)"
      ],
      "text/plain": [
       "<IPython.core.display.Markdown object>"
      ]
     },
     "metadata": {},
     "output_type": "display_data"
    },
    {
     "data": {
      "text/markdown": [],
      "text/plain": [
       "<IPython.core.display.Markdown object>"
      ]
     },
     "metadata": {},
     "output_type": "display_data"
    },
    {
     "data": {
      "text/markdown": [
       "10 documents found:"
      ],
      "text/plain": [
       "<IPython.core.display.Markdown object>"
      ]
     },
     "metadata": {},
     "output_type": "display_data"
    },
    {
     "data": {
      "text/markdown": [],
      "text/plain": [
       "<IPython.core.display.Markdown object>"
      ]
     },
     "metadata": {},
     "output_type": "display_data"
    },
    {
     "data": {
      "text/markdown": [
       "|   DocId | DocumentName                                          |    norm |   cosine_similarity | tfidf                                                                                                                 |\n",
       "|--------:|:------------------------------------------------------|--------:|--------------------:|:----------------------------------------------------------------------------------------------------------------------|\n",
       "|     412 | https://cnn.com/election/2020                         | 1308.84 |          0.16847    | {'elect': 615.2832675143642, 'trump': 32.88246940843981, 'biden': 21.295766024322187, 'candid': 96.11139413550325}    |\n",
       "|     401 | https://cnn.com/specials/opinion/opinion-politics     | 1368.3  |          0.105971   | {'elect': 89.49574800208934, 'trump': 325.53644714355414, 'biden': 73.01405494053321, 'candid': 39.77023205607031}    |\n",
       "|     425 | https://cnn.com/specials/us/crime-and-justice         | 1323.56 |          0.0362659  | {'elect': 75.11250278746785, 'trump': 70.69730922814558, 'biden': 12.169009156755536, 'candid': 6.6283720093450516}   |\n",
       "|     424 | https://cnn.com/specials/us/energy-and-environment    | 1318.67 |          0.031092   | {'elect': 68.71994935874717, 'trump': 37.81483981970578, 'biden': 36.50702747026661, 'candid': 13.256744018690103}    |\n",
       "|     342 | https://cnn.com/specials/world/cnn-climate            | 1329.36 |          0.0233195  | {'elect': 68.71994935874717, 'trump': 11.508864292953934, 'biden': 24.33801831351107, 'candid': 13.256744018690103}   |\n",
       "|     408 | https://cnn.com/specials/politics/fact-check-politics | 5153.47 |          0.0173669  | {'elect': 84.70133293054884, 'trump': 161.12410010135505, 'biden': 79.09855951891097, 'candid': 6.6283720093450516}   |\n",
       "|     409 | https://cnn.com/specials/politics/congress            | 5150.85 |          0.0143666  | {'elect': 103.87899321671084, 'trump': 103.5797786365854, 'biden': 42.591532048644375, 'candid': 19.885116028035156}  |\n",
       "|     104 | https://news.google.com/nwshp?hl=en&amp;tab=wn        | 6042.23 |          0.0116679  | {'elect': 22.373937000522336, 'trump': 118.37688987038331, 'biden': 164.28162361619974, 'candid': 3.3141860046725258} |\n",
       "|     106 | https://play.google.com/?hl=en&amp;tab=w8             | 5316.26 |          0.00376204 | {'elect': 4.7944150715405005, 'trump': 49.32370411265971, 'biden': 12.169009156755536, 'candid': 9.942558014017578}   |\n",
       "|      58 | https://play.google.com/?hl=en&amp;tab=u8             | 5316.31 |          0.00376201 | {'elect': 4.7944150715405005, 'trump': 49.32370411265971, 'biden': 12.169009156755536, 'candid': 9.942558014017578}   |"
      ],
      "text/plain": [
       "<IPython.core.display.Markdown object>"
      ]
     },
     "metadata": {},
     "output_type": "display_data"
    },
    {
     "name": "stdout",
     "output_type": "stream",
     "text": [
      "\n",
      "\n",
      "\n"
     ]
    },
    {
     "name": "stdin",
     "output_type": "stream",
     "text": [
      "Enter the search terms, each separated by a space (or just press ENTER to QUIT):  coronavirus sports\n"
     ]
    },
    {
     "name": "stdout",
     "output_type": "stream",
     "text": [
      "\n",
      "raw search terms:\n",
      "\t'coronavirus sports'\n",
      "\n",
      "tokenized/processed search terms:\n",
      "\t['coronaviru', 'sport']\n"
     ]
    },
    {
     "data": {
      "text/markdown": [],
      "text/plain": [
       "<IPython.core.display.Markdown object>"
      ]
     },
     "metadata": {},
     "output_type": "display_data"
    },
    {
     "data": {
      "text/markdown": [
       "|   TermId | Term       |   N |   df_t |    idf_t |\n",
       "|---------:|:-----------|----:|-------:|---------:|\n",
       "|        9 | sport      | 440 |    258 | 0.533815 |\n",
       "|     1018 | coronaviru | 440 |    198 | 0.798508 |"
      ],
      "text/plain": [
       "<IPython.core.display.Markdown object>"
      ]
     },
     "metadata": {},
     "output_type": "display_data"
    },
    {
     "data": {
      "text/markdown": [],
      "text/plain": [
       "<IPython.core.display.Markdown object>"
      ]
     },
     "metadata": {},
     "output_type": "display_data"
    },
    {
     "data": {
      "text/markdown": [
       "### SEARCH RESULTS: The following documents contain all of the above search terms (results ordered by cosine similarity)"
      ],
      "text/plain": [
       "<IPython.core.display.Markdown object>"
      ]
     },
     "metadata": {},
     "output_type": "display_data"
    },
    {
     "data": {
      "text/markdown": [],
      "text/plain": [
       "<IPython.core.display.Markdown object>"
      ]
     },
     "metadata": {},
     "output_type": "display_data"
    },
    {
     "data": {
      "text/markdown": [
       "184 documents found, displaying the first 20..."
      ],
      "text/plain": [
       "<IPython.core.display.Markdown object>"
      ]
     },
     "metadata": {},
     "output_type": "display_data"
    },
    {
     "data": {
      "text/markdown": [],
      "text/plain": [
       "<IPython.core.display.Markdown object>"
      ]
     },
     "metadata": {},
     "output_type": "display_data"
    },
    {
     "data": {
      "text/markdown": [
       "|   DocId | DocumentName                                                                                                    |    norm |   cosine_similarity | tfidf                                                           |\n",
       "|--------:|:----------------------------------------------------------------------------------------------------------------|--------:|--------------------:|:----------------------------------------------------------------|\n",
       "|     308 | https://www.warnermediagroup.com/what-warnermedia-doing-response-covid-19                                       | 635.904 |           0.112309  | {'sport': 9.07485741384172, 'coronaviru': 67.07464648229282}    |\n",
       "|     310 | https://www.warnermediagroup.com/covid-19-how-warnermedia-helping                                               | 502.428 |           0.111183  | {'sport': 7.473411987869651, 'coronaviru': 51.90300025415515}   |\n",
       "|     307 | https://www.cnn.com/audio/podcasts/corona-virus                                                                 | 174.791 |           0.101136  | {'sport': 1.0676302839813787, 'coronaviru': 18.365677013008746} |\n",
       "|     262 | https://www.tntdrama.com/sports/nba-on-tnt-19-20/clips/dominoes-how-the-coronavirus-changed-the-world-of-sports | 564.769 |           0.0951542 | {'sport': 38.43469022332963, 'coronaviru': 3.1940307848710865}  |\n",
       "|     179 | https://www.tntdrama.com/sports/nba-on-tnt-19-20/clips/the-steam-room-with-ej-and-chuck-episode-11              | 571.339 |           0.09406   | {'sport': 36.29942965536688, 'coronaviru': 6.388061569742173}   |\n",
       "|     166 | https://www.tntdrama.com/sports/nba-on-tnt-19-20/clips/shaqtin-a-fool-episode-9                                 | 573.703 |           0.0936724 | {'sport': 38.968505365320325, 'coronaviru': 2.3955230886533148} |\n",
       "|     186 | https://www.tntdrama.com/sports/nba-on-tnt-19-20/clips/nbatogether-with-guest-steve-kerr                        | 570.601 |           0.0929423 | {'sport': 36.29942965536688, 'coronaviru': 5.589553873524402}   |\n",
       "|     259 | https://www.tntdrama.com/sports/nba-on-tnt-19-20/clips/jemele-hills-message-about-the-nba-and-social-justice    | 564.11  |           0.0927583 | {'sport': 37.900875081338945, 'coronaviru': 2.3955230886533148} |\n",
       "|     149 | https://www.tntdrama.com/sports/nba-on-tnt-19-20/clips/dwyane-wade-joins-turner-sports-family                   | 575.261 |           0.0921895 | {'sport': 38.43469022332963, 'coronaviru': 2.3955230886533148}  |\n",
       "|     199 | https://www.tntdrama.com/sports/nba-on-tnt-19-20/clips/nbatogether-with-guest-brad-stevens                      | 568.996 |           0.0882337 | {'sport': 36.29942965536688, 'coronaviru': 2.3955230886533148}  |\n",
       "|     192 | https://www.tntdrama.com/sports/nba-on-tnt-19-20/clips/nbatogether-with-sabrina-ionescu                         | 569.218 |           0.0881992 | {'sport': 36.29942965536688, 'coronaviru': 2.3955230886533148}  |\n",
       "|     195 | https://www.tntdrama.com/sports/nba-on-tnt-19-20/clips/nbatogether-with-guest-david-robinson                    | 569.328 |           0.0881822 | {'sport': 36.29942965536688, 'coronaviru': 2.3955230886533148}  |\n",
       "|     202 | https://www.tntdrama.com/sports/nba-on-tnt-19-20/clips/nbatogether-with-guest-tobias-harris                     | 569.434 |           0.0881658 | {'sport': 36.29942965536688, 'coronaviru': 2.3955230886533148}  |\n",
       "|     197 | https://www.tntdrama.com/sports/nba-on-tnt-19-20/clips/nbatogether-on-racism-in-america                         | 569.642 |           0.0881336 | {'sport': 36.29942965536688, 'coronaviru': 2.3955230886533148}  |\n",
       "|     193 | https://www.tntdrama.com/sports/nba-on-tnt-19-20/clips/nbatogether-with-guest-doc-rivers                        | 569.684 |           0.0881271 | {'sport': 36.29942965536688, 'coronaviru': 2.3955230886533148}  |\n",
       "|     189 | https://www.tntdrama.com/sports/nba-on-tnt-19-20/clips/nbatogether-with-guest-trae-young                        | 569.693 |           0.0881257 | {'sport': 36.29942965536688, 'coronaviru': 2.3955230886533148}  |\n",
       "|     201 | https://www.tntdrama.com/sports/nba-on-tnt-19-20/clips/nbatogether-with-guest-ray-allen                         | 569.735 |           0.0881192 | {'sport': 36.29942965536688, 'coronaviru': 2.3955230886533148}  |\n",
       "|     191 | https://www.tntdrama.com/sports/nba-on-tnt-19-20/clips/nbatogether-with-guest-steve-nash                        | 570.289 |           0.0880337 | {'sport': 36.29942965536688, 'coronaviru': 2.3955230886533148}  |\n",
       "|     198 | https://www.tntdrama.com/sports/nba-on-tnt-19-20/clips/nbatogether-with-guest-malcolm-brogdon                   | 570.322 |           0.0880285 | {'sport': 36.29942965536688, 'coronaviru': 2.3955230886533148}  |\n",
       "|     177 | https://www.tntdrama.com/sports/nba-on-tnt-19-20/clips/the-steam-room-with-ej-and-chuck-episode-8               | 570.388 |           0.0880184 | {'sport': 36.29942965536688, 'coronaviru': 2.3955230886533148}  |"
      ],
      "text/plain": [
       "<IPython.core.display.Markdown object>"
      ]
     },
     "metadata": {},
     "output_type": "display_data"
    },
    {
     "name": "stdout",
     "output_type": "stream",
     "text": [
      "\n",
      "\n",
      "\n"
     ]
    },
    {
     "name": "stdin",
     "output_type": "stream",
     "text": [
      "Enter the search terms, each separated by a space (or just press ENTER to QUIT):  mars perseverance spacex\n"
     ]
    },
    {
     "name": "stdout",
     "output_type": "stream",
     "text": [
      "\n",
      "raw search terms:\n",
      "\t'mars perseverance spacex'\n",
      "\n",
      "tokenized/processed search terms:\n",
      "\t['mar', 'persever', 'spacex']\n"
     ]
    },
    {
     "data": {
      "text/markdown": [],
      "text/plain": [
       "<IPython.core.display.Markdown object>"
      ]
     },
     "metadata": {},
     "output_type": "display_data"
    },
    {
     "data": {
      "text/markdown": [
       "|   TermId | Term     |   N |   df_t |   idf_t |\n",
       "|---------:|:---------|----:|-------:|--------:|\n",
       "|     4770 | persever | 440 |      4 | 4.70048 |\n",
       "|     6105 | mar      | 440 |     12 | 3.60187 |\n",
       "|     7576 | spacex   | 440 |      7 | 4.14086 |"
      ],
      "text/plain": [
       "<IPython.core.display.Markdown object>"
      ]
     },
     "metadata": {},
     "output_type": "display_data"
    },
    {
     "data": {
      "text/markdown": [],
      "text/plain": [
       "<IPython.core.display.Markdown object>"
      ]
     },
     "metadata": {},
     "output_type": "display_data"
    },
    {
     "data": {
      "text/markdown": [
       "### SEARCH RESULTS: The following documents contain all of the above search terms (results ordered by cosine similarity)"
      ],
      "text/plain": [
       "<IPython.core.display.Markdown object>"
      ]
     },
     "metadata": {},
     "output_type": "display_data"
    },
    {
     "data": {
      "text/markdown": [],
      "text/plain": [
       "<IPython.core.display.Markdown object>"
      ]
     },
     "metadata": {},
     "output_type": "display_data"
    },
    {
     "data": {
      "text/markdown": [
       "1 documents found:"
      ],
      "text/plain": [
       "<IPython.core.display.Markdown object>"
      ]
     },
     "metadata": {},
     "output_type": "display_data"
    },
    {
     "data": {
      "text/markdown": [],
      "text/plain": [
       "<IPython.core.display.Markdown object>"
      ]
     },
     "metadata": {},
     "output_type": "display_data"
    },
    {
     "data": {
      "text/markdown": [
       "|   DocId | DocumentName                           |    norm |   cosine_similarity | tfidf                                                                                  |\n",
       "|--------:|:---------------------------------------|--------:|--------------------:|:---------------------------------------------------------------------------------------|\n",
       "|     422 | https://cnn.com/specials/space-science | 1320.65 |           0.0332251 | {'persever': 84.6086465842635, 'mar': 108.0560423137292, 'spacex': 115.94420817999583} |"
      ],
      "text/plain": [
       "<IPython.core.display.Markdown object>"
      ]
     },
     "metadata": {},
     "output_type": "display_data"
    },
    {
     "name": "stdout",
     "output_type": "stream",
     "text": [
      "\n",
      "\n",
      "\n"
     ]
    },
    {
     "name": "stdin",
     "output_type": "stream",
     "text": [
      "Enter the search terms, each separated by a space (or just press ENTER to QUIT):  \n",
      "Are you sure you want to QUIT? (press ENTER again to confirm):  \n"
     ]
    },
    {
     "data": {
      "text/markdown": [],
      "text/plain": [
       "<IPython.core.display.Markdown object>"
      ]
     },
     "metadata": {},
     "output_type": "display_data"
    },
    {
     "data": {
      "text/markdown": [],
      "text/plain": [
       "<IPython.core.display.Markdown object>"
      ]
     },
     "metadata": {},
     "output_type": "display_data"
    },
    {
     "data": {
      "text/markdown": [
       "That's all, folks.  Thanks for playing!  BYE BYE."
      ],
      "text/plain": [
       "<IPython.core.display.Markdown object>"
      ]
     },
     "metadata": {},
     "output_type": "display_data"
    }
   ],
   "source": [
    "srch_engine = SearchEngine(\"unit7/webcrawler.db\")\n",
    "srch_engine.run()\n",
    "\n",
    "# we're done\n",
    "disp(\"\")\n",
    "disp(\"\")\n",
    "disp(\"That's all, folks.  Thanks for playing!  BYE BYE.\")"
   ]
  },
  {
   "cell_type": "markdown",
   "metadata": {},
   "source": [
    "<p><br><br>\n",
    "\n",
    "# Conclusion\n",
    "This document was produced as a (IPython) Jupyter Notebook. (\"Project Jupyter\", 2020)"
   ]
  },
  {
   "cell_type": "markdown",
   "metadata": {},
   "source": [
    "<p><br><br>\n",
    "\n",
    "### References"
   ]
  },
  {
   "cell_type": "markdown",
   "metadata": {},
   "source": [
    "Manning, C., Raghavan, P., & Schütze, H. (2008). Introduction to Information Retrieval [Ebook]. Cambridge University Press. Retrieved from http://nlp.stanford.edu/IR-book/pdf/irbookprint.pdf"
   ]
  },
  {
   "cell_type": "markdown",
   "metadata": {},
   "source": [
    "Project Jupyter. (2020). Retrieved from https://jupyter.org/documentation"
   ]
  }
 ],
 "metadata": {
  "kernelspec": {
   "display_name": "Anaconda: learn-env",
   "language": "python",
   "name": "python3"
  },
  "language_info": {
   "codemirror_mode": {
    "name": "ipython",
    "version": 3
   },
   "file_extension": ".py",
   "mimetype": "text/x-python",
   "name": "python",
   "nbconvert_exporter": "python",
   "pygments_lexer": "ipython3",
   "version": "3.8.4"
  }
 },
 "nbformat": 4,
 "nbformat_minor": 4
}
