{
 "cells": [
  {
   "cell_type": "markdown",
   "metadata": {},
   "source": [
    "# Search Engine\n",
    "- Implement a (document) Search Engine using the Inverted Index created in Unit 4's assignment\n",
    "- Using search terms entered by the user, utilize this search engine as follows:\n",
    "    - compute the $tfidf$ of each search term\n",
    "    - search for the set of documents containing ALL terms\n",
    "    - compute the cosine similarity of each of the documents to the search phrase\n",
    "    - retrict returned results to the top 20 (thus, results must be ordered by non-increasing cosine similarity)\n",
    "    - results using the search phrase \"Computer Engineering\" must be minimally included in the output results"
   ]
  },
  {
   "cell_type": "code",
   "execution_count": 1,
   "metadata": {},
   "outputs": [],
   "source": [
    "from unit5.search_engine import SearchEngine\n",
    "\n",
    "%load_ext autoreload\n",
    "%autoreload 2"
   ]
  },
  {
   "cell_type": "code",
   "execution_count": 2,
   "metadata": {},
   "outputs": [
    {
     "name": "stdin",
     "output_type": "stream",
     "text": [
      "Enter the search terms, each separated by a space (or just press ENTER to QUIT):  computer\n"
     ]
    },
    {
     "name": "stdout",
     "output_type": "stream",
     "text": [
      "\n",
      "raw search terms:\n",
      "\t'computer'\n",
      "\n",
      "tokenized/processed search terms:\n",
      "\t['comput']\n"
     ]
    },
    {
     "data": {
      "text/markdown": [],
      "text/plain": [
       "<IPython.core.display.Markdown object>"
      ]
     },
     "metadata": {},
     "output_type": "display_data"
    },
    {
     "data": {
      "text/markdown": [
       "|   TermId | Term   |   N |   df_t |   idf_t |\n",
       "|---------:|:-------|----:|-------:|--------:|\n",
       "|       99 | comput | 570 |    113 | 1.61825 |"
      ],
      "text/plain": [
       "<IPython.core.display.Markdown object>"
      ]
     },
     "metadata": {},
     "output_type": "display_data"
    },
    {
     "data": {
      "text/markdown": [],
      "text/plain": [
       "<IPython.core.display.Markdown object>"
      ]
     },
     "metadata": {},
     "output_type": "display_data"
    },
    {
     "data": {
      "text/markdown": [
       "### SEARCH RESULTS: The following documents contain all of the above search terms (results ordered by cosine similarity)"
      ],
      "text/plain": [
       "<IPython.core.display.Markdown object>"
      ]
     },
     "metadata": {},
     "output_type": "display_data"
    },
    {
     "data": {
      "text/markdown": [],
      "text/plain": [
       "<IPython.core.display.Markdown object>"
      ]
     },
     "metadata": {},
     "output_type": "display_data"
    },
    {
     "data": {
      "text/markdown": [
       "113 documents found, displaying the first 20..."
      ],
      "text/plain": [
       "<IPython.core.display.Markdown object>"
      ]
     },
     "metadata": {},
     "output_type": "display_data"
    },
    {
     "data": {
      "text/markdown": [],
      "text/plain": [
       "<IPython.core.display.Markdown object>"
      ]
     },
     "metadata": {},
     "output_type": "display_data"
    },
    {
     "data": {
      "text/markdown": [
       "|   DocId | DocumentName                                                    |     norm |   cosine_similarity | tfidf                          |\n",
       "|--------:|:----------------------------------------------------------------|---------:|--------------------:|:-------------------------------|\n",
       "|      89 | /Users/stevencontreras/Dev/UoP/CS3308/unit4/cacm/CACM-0093.html |  5.56776 |            0.538816 | {'comput': 4.854745626348766}  |\n",
       "|     288 | /Users/stevencontreras/Dev/UoP/CS3308/unit4/cacm/CACM-0080.html |  4       |            0.5      | {'comput': 3.2364970842325107} |\n",
       "|      39 | /Users/stevencontreras/Dev/UoP/CS3308/unit4/cacm/CACM-0417.html | 10.6771  |            0.468293 | {'comput': 8.091242710581277}  |\n",
       "|     465 | /Users/stevencontreras/Dev/UoP/CS3308/unit4/cacm/CACM-0252.html |  9.48683 |            0.421637 | {'comput': 6.472994168465021}  |\n",
       "|     156 | /Users/stevencontreras/Dev/UoP/CS3308/unit4/cacm/CACM-0057.html |  2.44949 |            0.408248 | {'comput': 1.6182485421162554} |\n",
       "|     134 | /Users/stevencontreras/Dev/UoP/CS3308/unit4/cacm/CACM-0322.html | 10.7238  |            0.373002 | {'comput': 6.472994168465021}  |\n",
       "|     535 | /Users/stevencontreras/Dev/UoP/CS3308/unit4/cacm/CACM-0068.html | 10.7703  |            0.371391 | {'comput': 6.472994168465021}  |\n",
       "|     303 | /Users/stevencontreras/Dev/UoP/CS3308/unit4/cacm/CACM-0096.html |  8.42615 |            0.356034 | {'comput': 4.854745626348766}  |\n",
       "|     406 | /Users/stevencontreras/Dev/UoP/CS3308/unit4/cacm/CACM-0146.html |  8.48528 |            0.353553 | {'comput': 4.854745626348766}  |\n",
       "|     553 | /Users/stevencontreras/Dev/UoP/CS3308/unit4/cacm/CACM-0072.html |  2.82843 |            0.353553 | {'comput': 1.6182485421162554} |\n",
       "|     496 | /Users/stevencontreras/Dev/UoP/CS3308/unit4/cacm/CACM-0157.html |  2.82843 |            0.353553 | {'comput': 1.6182485421162554} |\n",
       "|     222 | /Users/stevencontreras/Dev/UoP/CS3308/unit4/cacm/CACM-0037.html |  2.82843 |            0.353553 | {'comput': 1.6182485421162554} |\n",
       "|     136 | /Users/stevencontreras/Dev/UoP/CS3308/unit4/cacm/CACM-0119.html |  2.82843 |            0.353553 | {'comput': 1.6182485421162554} |\n",
       "|     570 | /Users/stevencontreras/Dev/UoP/CS3308/unit4/cacm/CACM-0121.html |  2.82843 |            0.353553 | {'comput': 1.6182485421162554} |\n",
       "|     329 | /Users/stevencontreras/Dev/UoP/CS3308/unit4/cacm/CACM-0034.html |  2.82843 |            0.353553 | {'comput': 1.6182485421162554} |\n",
       "|     127 | /Users/stevencontreras/Dev/UoP/CS3308/unit4/cacm/CACM-0135.html |  2.82843 |            0.353553 | {'comput': 1.6182485421162554} |\n",
       "|      32 | /Users/stevencontreras/Dev/UoP/CS3308/unit4/cacm/CACM-0067.html |  2.82843 |            0.353553 | {'comput': 1.6182485421162554} |\n",
       "|     115 | /Users/stevencontreras/Dev/UoP/CS3308/unit4/cacm/CACM-0436.html |  2.82843 |            0.353553 | {'comput': 1.6182485421162554} |\n",
       "|     394 | /Users/stevencontreras/Dev/UoP/CS3308/unit4/cacm/CACM-0557.html |  2.82843 |            0.353553 | {'comput': 1.6182485421162554} |\n",
       "|     483 | /Users/stevencontreras/Dev/UoP/CS3308/unit4/cacm/CACM-0004.html |  3       |            0.333333 | {'comput': 1.6182485421162554} |"
      ],
      "text/plain": [
       "<IPython.core.display.Markdown object>"
      ]
     },
     "metadata": {},
     "output_type": "display_data"
    },
    {
     "name": "stdout",
     "output_type": "stream",
     "text": [
      "\n",
      "\n",
      "\n"
     ]
    },
    {
     "name": "stdin",
     "output_type": "stream",
     "text": [
      "Enter the search terms, each separated by a space (or just press ENTER to QUIT):  engineering\n"
     ]
    },
    {
     "name": "stdout",
     "output_type": "stream",
     "text": [
      "\n",
      "raw search terms:\n",
      "\t'engineering'\n",
      "\n",
      "tokenized/processed search terms:\n",
      "\t['engin']\n"
     ]
    },
    {
     "data": {
      "text/markdown": [],
      "text/plain": [
       "<IPython.core.display.Markdown object>"
      ]
     },
     "metadata": {},
     "output_type": "display_data"
    },
    {
     "data": {
      "text/markdown": [
       "|   TermId | Term   |   N |   df_t |   idf_t |\n",
       "|---------:|:-------|----:|-------:|--------:|\n",
       "|      193 | engin  | 570 |     10 | 4.04305 |"
      ],
      "text/plain": [
       "<IPython.core.display.Markdown object>"
      ]
     },
     "metadata": {},
     "output_type": "display_data"
    },
    {
     "data": {
      "text/markdown": [],
      "text/plain": [
       "<IPython.core.display.Markdown object>"
      ]
     },
     "metadata": {},
     "output_type": "display_data"
    },
    {
     "data": {
      "text/markdown": [
       "### SEARCH RESULTS: The following documents contain all of the above search terms (results ordered by cosine similarity)"
      ],
      "text/plain": [
       "<IPython.core.display.Markdown object>"
      ]
     },
     "metadata": {},
     "output_type": "display_data"
    },
    {
     "data": {
      "text/markdown": [],
      "text/plain": [
       "<IPython.core.display.Markdown object>"
      ]
     },
     "metadata": {},
     "output_type": "display_data"
    },
    {
     "data": {
      "text/markdown": [
       "10 documents found:"
      ],
      "text/plain": [
       "<IPython.core.display.Markdown object>"
      ]
     },
     "metadata": {},
     "output_type": "display_data"
    },
    {
     "data": {
      "text/markdown": [],
      "text/plain": [
       "<IPython.core.display.Markdown object>"
      ]
     },
     "metadata": {},
     "output_type": "display_data"
    },
    {
     "data": {
      "text/markdown": [
       "|   DocId | DocumentName                                                    |     norm |   cosine_similarity | tfidf                         |\n",
       "|--------:|:----------------------------------------------------------------|---------:|--------------------:|:------------------------------|\n",
       "|     406 | /Users/stevencontreras/Dev/UoP/CS3308/unit4/cacm/CACM-0146.html |  8.48528 |           0.353553  | {'engin': 12.129153803503652} |\n",
       "|      33 | /Users/stevencontreras/Dev/UoP/CS3308/unit4/cacm/CACM-0010.html |  3       |           0.333333  | {'engin': 4.04305126783455}   |\n",
       "|      93 | /Users/stevencontreras/Dev/UoP/CS3308/unit4/cacm/CACM-0007.html |  3       |           0.333333  | {'engin': 4.04305126783455}   |\n",
       "|     360 | /Users/stevencontreras/Dev/UoP/CS3308/unit4/cacm/CACM-0019.html |  3       |           0.333333  | {'engin': 4.04305126783455}   |\n",
       "|     483 | /Users/stevencontreras/Dev/UoP/CS3308/unit4/cacm/CACM-0004.html |  3       |           0.333333  | {'engin': 4.04305126783455}   |\n",
       "|     502 | /Users/stevencontreras/Dev/UoP/CS3308/unit4/cacm/CACM-0013.html |  3       |           0.333333  | {'engin': 4.04305126783455}   |\n",
       "|      69 | /Users/stevencontreras/Dev/UoP/CS3308/unit4/cacm/CACM-0250.html |  3.16228 |           0.316228  | {'engin': 4.04305126783455}   |\n",
       "|     401 | /Users/stevencontreras/Dev/UoP/CS3308/unit4/cacm/CACM-0054.html |  3.74166 |           0.267261  | {'engin': 4.04305126783455}   |\n",
       "|     189 | /Users/stevencontreras/Dev/UoP/CS3308/unit4/cacm/CACM-0558.html | 10       |           0.1       | {'engin': 4.04305126783455}   |\n",
       "|      19 | /Users/stevencontreras/Dev/UoP/CS3308/unit4/cacm/CACM-0533.html | 13       |           0.0769231 | {'engin': 4.04305126783455}   |"
      ],
      "text/plain": [
       "<IPython.core.display.Markdown object>"
      ]
     },
     "metadata": {},
     "output_type": "display_data"
    },
    {
     "name": "stdout",
     "output_type": "stream",
     "text": [
      "\n",
      "\n",
      "\n"
     ]
    },
    {
     "name": "stdin",
     "output_type": "stream",
     "text": [
      "Enter the search terms, each separated by a space (or just press ENTER to QUIT):  algorithm\n"
     ]
    },
    {
     "name": "stdout",
     "output_type": "stream",
     "text": [
      "\n",
      "raw search terms:\n",
      "\t'algorithm'\n",
      "\n",
      "tokenized/processed search terms:\n",
      "\t['algorithm']\n"
     ]
    },
    {
     "data": {
      "text/markdown": [],
      "text/plain": [
       "<IPython.core.display.Markdown object>"
      ]
     },
     "metadata": {},
     "output_type": "display_data"
    },
    {
     "data": {
      "text/markdown": [
       "|   TermId | Term      |   N |   df_t |    idf_t |\n",
       "|---------:|:----------|----:|-------:|---------:|\n",
       "|        4 | algorithm | 570 |    217 | 0.965739 |"
      ],
      "text/plain": [
       "<IPython.core.display.Markdown object>"
      ]
     },
     "metadata": {},
     "output_type": "display_data"
    },
    {
     "data": {
      "text/markdown": [],
      "text/plain": [
       "<IPython.core.display.Markdown object>"
      ]
     },
     "metadata": {},
     "output_type": "display_data"
    },
    {
     "data": {
      "text/markdown": [
       "### SEARCH RESULTS: The following documents contain all of the above search terms (results ordered by cosine similarity)"
      ],
      "text/plain": [
       "<IPython.core.display.Markdown object>"
      ]
     },
     "metadata": {},
     "output_type": "display_data"
    },
    {
     "data": {
      "text/markdown": [],
      "text/plain": [
       "<IPython.core.display.Markdown object>"
      ]
     },
     "metadata": {},
     "output_type": "display_data"
    },
    {
     "data": {
      "text/markdown": [
       "217 documents found, displaying the first 20..."
      ],
      "text/plain": [
       "<IPython.core.display.Markdown object>"
      ]
     },
     "metadata": {},
     "output_type": "display_data"
    },
    {
     "data": {
      "text/markdown": [],
      "text/plain": [
       "<IPython.core.display.Markdown object>"
      ]
     },
     "metadata": {},
     "output_type": "display_data"
    },
    {
     "data": {
      "text/markdown": [
       "|   DocId | DocumentName                                                    |    norm |   cosine_similarity | tfidf                             |\n",
       "|--------:|:----------------------------------------------------------------|--------:|--------------------:|:----------------------------------|\n",
       "|     364 | /Users/stevencontreras/Dev/UoP/CS3308/unit4/cacm/CACM-0371.html | 4.12311 |            0.727607 | {'algorithm': 2.8972170218644084} |\n",
       "|     564 | /Users/stevencontreras/Dev/UoP/CS3308/unit4/cacm/CACM-0199.html | 3.16228 |            0.632456 | {'algorithm': 1.9314780145762724} |\n",
       "|     509 | /Users/stevencontreras/Dev/UoP/CS3308/unit4/cacm/CACM-0228.html | 2.64575 |            0.377964 | {'algorithm': 0.9657390072881362} |\n",
       "|     525 | /Users/stevencontreras/Dev/UoP/CS3308/unit4/cacm/CACM-0029.html | 2.64575 |            0.377964 | {'algorithm': 0.9657390072881362} |\n",
       "|     323 | /Users/stevencontreras/Dev/UoP/CS3308/unit4/cacm/CACM-0501.html | 2.64575 |            0.377964 | {'algorithm': 0.9657390072881362} |\n",
       "|     387 | /Users/stevencontreras/Dev/UoP/CS3308/unit4/cacm/CACM-0127.html | 2.64575 |            0.377964 | {'algorithm': 0.9657390072881362} |\n",
       "|       4 | /Users/stevencontreras/Dev/UoP/CS3308/unit4/cacm/CACM-0159.html | 2.64575 |            0.377964 | {'algorithm': 0.9657390072881362} |\n",
       "|     476 | /Users/stevencontreras/Dev/UoP/CS3308/unit4/cacm/CACM-0356.html | 2.64575 |            0.377964 | {'algorithm': 0.9657390072881362} |\n",
       "|     173 | /Users/stevencontreras/Dev/UoP/CS3308/unit4/cacm/CACM-0305.html | 2.64575 |            0.377964 | {'algorithm': 0.9657390072881362} |\n",
       "|     315 | /Users/stevencontreras/Dev/UoP/CS3308/unit4/cacm/CACM-0385.html | 2.64575 |            0.377964 | {'algorithm': 0.9657390072881362} |\n",
       "|     213 | /Users/stevencontreras/Dev/UoP/CS3308/unit4/cacm/CACM-0431.html | 2.64575 |            0.377964 | {'algorithm': 0.9657390072881362} |\n",
       "|     201 | /Users/stevencontreras/Dev/UoP/CS3308/unit4/cacm/CACM-0309.html | 2.64575 |            0.377964 | {'algorithm': 0.9657390072881362} |\n",
       "|     226 | /Users/stevencontreras/Dev/UoP/CS3308/unit4/cacm/CACM-0471.html | 2.64575 |            0.377964 | {'algorithm': 0.9657390072881362} |\n",
       "|     294 | /Users/stevencontreras/Dev/UoP/CS3308/unit4/cacm/CACM-0487.html | 2.64575 |            0.377964 | {'algorithm': 0.9657390072881362} |\n",
       "|      82 | /Users/stevencontreras/Dev/UoP/CS3308/unit4/cacm/CACM-0302.html | 2.64575 |            0.377964 | {'algorithm': 0.9657390072881362} |\n",
       "|     382 | /Users/stevencontreras/Dev/UoP/CS3308/unit4/cacm/CACM-0465.html | 2.64575 |            0.377964 | {'algorithm': 0.9657390072881362} |\n",
       "|      28 | /Users/stevencontreras/Dev/UoP/CS3308/unit4/cacm/CACM-0460.html | 2.64575 |            0.377964 | {'algorithm': 0.9657390072881362} |\n",
       "|     197 | /Users/stevencontreras/Dev/UoP/CS3308/unit4/cacm/CACM-0562.html | 2.64575 |            0.377964 | {'algorithm': 0.9657390072881362} |\n",
       "|      94 | /Users/stevencontreras/Dev/UoP/CS3308/unit4/cacm/CACM-0512.html | 2.64575 |            0.377964 | {'algorithm': 0.9657390072881362} |\n",
       "|     389 | /Users/stevencontreras/Dev/UoP/CS3308/unit4/cacm/CACM-0500.html | 2.64575 |            0.377964 | {'algorithm': 0.9657390072881362} |"
      ],
      "text/plain": [
       "<IPython.core.display.Markdown object>"
      ]
     },
     "metadata": {},
     "output_type": "display_data"
    },
    {
     "name": "stdout",
     "output_type": "stream",
     "text": [
      "\n",
      "\n",
      "\n"
     ]
    },
    {
     "name": "stdin",
     "output_type": "stream",
     "text": [
      "Enter the search terms, each separated by a space (or just press ENTER to QUIT):  computer engineering algorithm\n"
     ]
    },
    {
     "name": "stdout",
     "output_type": "stream",
     "text": [
      "\n",
      "raw search terms:\n",
      "\t'computer engineering algorithm'\n",
      "\n",
      "tokenized/processed search terms:\n",
      "\t['comput', 'engin', 'algorithm']\n"
     ]
    },
    {
     "data": {
      "text/markdown": [],
      "text/plain": [
       "<IPython.core.display.Markdown object>"
      ]
     },
     "metadata": {},
     "output_type": "display_data"
    },
    {
     "data": {
      "text/markdown": [
       "|   TermId | Term      |   N |   df_t |    idf_t |\n",
       "|---------:|:----------|----:|-------:|---------:|\n",
       "|        4 | algorithm | 570 |    217 | 0.965739 |\n",
       "|       99 | comput    | 570 |    113 | 1.61825  |\n",
       "|      193 | engin     | 570 |     10 | 4.04305  |"
      ],
      "text/plain": [
       "<IPython.core.display.Markdown object>"
      ]
     },
     "metadata": {},
     "output_type": "display_data"
    },
    {
     "data": {
      "text/markdown": [],
      "text/plain": [
       "<IPython.core.display.Markdown object>"
      ]
     },
     "metadata": {},
     "output_type": "display_data"
    },
    {
     "data": {
      "text/markdown": [
       "### SEARCH RESULTS: The following documents contain all of the above search terms (results ordered by cosine similarity)"
      ],
      "text/plain": [
       "<IPython.core.display.Markdown object>"
      ]
     },
     "metadata": {},
     "output_type": "display_data"
    },
    {
     "data": {
      "text/markdown": [],
      "text/plain": [
       "<IPython.core.display.Markdown object>"
      ]
     },
     "metadata": {},
     "output_type": "display_data"
    },
    {
     "data": {
      "text/markdown": [
       "1 documents found:"
      ],
      "text/plain": [
       "<IPython.core.display.Markdown object>"
      ]
     },
     "metadata": {},
     "output_type": "display_data"
    },
    {
     "data": {
      "text/markdown": [],
      "text/plain": [
       "<IPython.core.display.Markdown object>"
      ]
     },
     "metadata": {},
     "output_type": "display_data"
    },
    {
     "data": {
      "text/markdown": [
       "|   DocId | DocumentName                                                    |   norm |   cosine_similarity | tfidf                                                                                      |\n",
       "|--------:|:----------------------------------------------------------------|-------:|--------------------:|:-------------------------------------------------------------------------------------------|\n",
       "|     189 | /Users/stevencontreras/Dev/UoP/CS3308/unit4/cacm/CACM-0558.html |     10 |            0.288675 | {'algorithm': 1.9314780145762724, 'comput': 3.2364970842325107, 'engin': 4.04305126783455} |"
      ],
      "text/plain": [
       "<IPython.core.display.Markdown object>"
      ]
     },
     "metadata": {},
     "output_type": "display_data"
    },
    {
     "name": "stdout",
     "output_type": "stream",
     "text": [
      "\n",
      "\n",
      "\n"
     ]
    },
    {
     "name": "stdin",
     "output_type": "stream",
     "text": [
      "Enter the search terms, each separated by a space (or just press ENTER to QUIT):  \n",
      "Are you sure you want to QUIT? (press ENTER again to confirm):  \n"
     ]
    },
    {
     "data": {
      "text/markdown": [],
      "text/plain": [
       "<IPython.core.display.Markdown object>"
      ]
     },
     "metadata": {},
     "output_type": "display_data"
    },
    {
     "data": {
      "text/markdown": [],
      "text/plain": [
       "<IPython.core.display.Markdown object>"
      ]
     },
     "metadata": {},
     "output_type": "display_data"
    },
    {
     "data": {
      "text/markdown": [
       "That's all, folks.  Thanks for playing!  BYE BYE."
      ],
      "text/plain": [
       "<IPython.core.display.Markdown object>"
      ]
     },
     "metadata": {},
     "output_type": "display_data"
    }
   ],
   "source": [
    "srch_engine = SearchEngine(\"unit4/indexer_part2.db\")\n",
    "srch_engine.run()"
   ]
  },
  {
   "cell_type": "markdown",
   "metadata": {},
   "source": [
    "<p><br><br>\n",
    "\n",
    "# Conclusion\n",
    "I forgot to mention that this document was produced as a (IPython) Jupyter Notebook. (\"Project Jupyter\", 2020)"
   ]
  },
  {
   "cell_type": "markdown",
   "metadata": {},
   "source": [
    "### References"
   ]
  },
  {
   "cell_type": "markdown",
   "metadata": {},
   "source": [
    "Manning, C., Raghavan, P., & Schütze, H. (2008). Introduction to Information Retrieval [Ebook]. Cambridge University Press. Retrieved from http://nlp.stanford.edu/IR-book/pdf/irbookprint.pdf"
   ]
  },
  {
   "cell_type": "markdown",
   "metadata": {},
   "source": [
    "Project Jupyter. (2020). Retrieved from https://jupyter.org/documentation"
   ]
  }
 ],
 "metadata": {
  "kernelspec": {
   "display_name": "Anaconda: learn-env",
   "language": "python",
   "name": "python3"
  },
  "language_info": {
   "codemirror_mode": {
    "name": "ipython",
    "version": 3
   },
   "file_extension": ".py",
   "mimetype": "text/x-python",
   "name": "python",
   "nbconvert_exporter": "python",
   "pygments_lexer": "ipython3",
   "version": "3.8.4"
  }
 },
 "nbformat": 4,
 "nbformat_minor": 4
}
